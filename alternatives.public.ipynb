{
 "cells": [
  {
   "cell_type": "code",
   "execution_count": 1,
   "metadata": {
    "collapsed": true,
    "pycharm": {
     "name": "#%%\n"
    }
   },
   "outputs": [
    {
     "data": {
      "text/plain": "True"
     },
     "execution_count": 1,
     "metadata": {},
     "output_type": "execute_result"
    }
   ],
   "source": [
    "from dotenv import load_dotenv\n",
    "import os\n",
    "\n",
    "load_dotenv()"
   ]
  },
  {
   "cell_type": "code",
   "execution_count": 2,
   "outputs": [],
   "source": [
    "import openai\n",
    "\n",
    "openai.api_key = os.getenv('OPENAI_API_KEY_1')\n",
    "\n",
    "def get_open_ai_completion(prompt, model=\"gpt-3.5-turbo\"):\n",
    "    messages = [{\"role\": \"user\", \"content\": prompt}]\n",
    "    open_ai_response = openai.ChatCompletion.create(\n",
    "        model=model,\n",
    "        messages=messages,\n",
    "        temperature=0.2,\n",
    "    )\n",
    "    return open_ai_response.choices[0].message[\"content\"]"
   ],
   "metadata": {
    "collapsed": false,
    "pycharm": {
     "name": "#%%\n"
    }
   }
  },
  {
   "cell_type": "code",
   "execution_count": 3,
   "outputs": [],
   "source": [
    "import requests\n",
    "\n",
    "perplexity_api_key = os.getenv('PERPLEXITY_API_KEY_1')\n",
    "\n",
    "purl = \"https://api.perplexity.ai/chat/completions\"\n",
    "pheaders = {\n",
    "    \"accept\": \"application/json\",\n",
    "    \"authorization\": f'Bearer {perplexity_api_key}',\n",
    "    \"Content-Type\": \"application/json\"\n",
    "}\n",
    "\n",
    "def get_perplexity_completion(prompt, model=\"llama-2-70b-chat\"):\n",
    "    messages = [{\"role\": \"user\", \"content\": prompt}]\n",
    "    data = {\n",
    "        \"messages\": messages,\n",
    "        \"model\": model,\n",
    "        \"temperature\": 0.2\n",
    "    }\n",
    "    perplexity_response = requests.post(purl, headers=pheaders, json=data)\n",
    "    return perplexity_response.json()[\"choices\"][0][\"message\"][\"content\"]"
   ],
   "metadata": {
    "collapsed": false,
    "pycharm": {
     "name": "#%%\n"
    }
   }
  },
  {
   "cell_type": "code",
   "execution_count": 4,
   "outputs": [],
   "source": [
    "from anthropic import Anthropic, HUMAN_PROMPT, AI_PROMPT\n",
    "\n",
    "anthropic_api_key = os.getenv('ANTHROPIC_API_KEY_1')\n",
    "anthropic = Anthropic(api_key=anthropic_api_key)\n",
    "\n",
    "def get_anthropic_completion(prompt, model=\"claude-2.1\"):\n",
    "    completion = anthropic.completions.create(\n",
    "        model=model,\n",
    "        max_tokens_to_sample=1000,\n",
    "        temperature=0.2,\n",
    "        prompt=f\"${HUMAN_PROMPT} ${prompt}${AI_PROMPT}\",\n",
    "    )\n",
    "    return completion.completion"
   ],
   "metadata": {
    "collapsed": false,
    "pycharm": {
     "name": "#%%\n"
    }
   }
  },
  {
   "cell_type": "code",
   "execution_count": 5,
   "outputs": [],
   "source": [
    "import anthropic_bedrock\n",
    "from anthropic_bedrock import AnthropicBedrock\n",
    "\n",
    "aws_access_key = os.getenv('AWS_ACCESS_KEY')\n",
    "aws_secret_key = os.getenv('AWS_SECRET_KEY')\n",
    "\n",
    "abclient = AnthropicBedrock(\n",
    "    # Authenticate by either providing the keys below or use the default AWS credential providers, such as\n",
    "    # using ~/.aws/credentials or the \"AWS_SECRET_ACCESS_KEY\" and \"AWS_ACCESS_KEY_ID\" environment variables.\n",
    "    aws_access_key=aws_access_key,\n",
    "    aws_secret_key=aws_secret_key,\n",
    "    # Temporary credentials can be used with aws_session_token.\n",
    "    # Read more at https://docs.aws.amazon.com/IAM/latest/UserGuide/id_credentials_temp.html.\n",
    "    # aws_session_token=\"<session_token>\",\n",
    "    # aws_region changes the aws region to which the request is made. By default, we read AWS_REGION,\n",
    "    # and if that's not present, we default to us-east-1. Note that we do not read ~/.aws/config for the region.\n",
    "    aws_region=\"us-east-1\",\n",
    ")\n",
    "\n",
    "def get_bedrock_anthropic_completion(aprompt, amodel=\"anthropic.claude-instant-v1\"):\n",
    "    completion = abclient.completions.create(\n",
    "        model=amodel,\n",
    "        max_tokens_to_sample=1000,\n",
    "        temperature=0.2,\n",
    "        prompt=f\"{anthropic_bedrock.HUMAN_PROMPT} ${aprompt} {anthropic_bedrock.AI_PROMPT}\",\n",
    "    )\n",
    "    return completion.completion"
   ],
   "metadata": {
    "collapsed": false,
    "pycharm": {
     "name": "#%%\n"
    }
   }
  },
  {
   "cell_type": "code",
   "execution_count": 6,
   "outputs": [],
   "source": [
    "prompt = \"\"\"\n",
    "You are an assistant that specializes in travel planning. You are communicating with the LLM agent so return the JSON array only! You task is to plan a walking tour in Boston where tourists would like to visit 5 landmark places on the Freedom Trail.\n",
    "\n",
    "For each place, please provide the following details in a plain English:\n",
    "- Name;\n",
    "- A brief description of the place with a bit of its history (about five sentences);\n",
    "- location (latitude and longitude).\n",
    "\n",
    "The list should be optimized for a walking tour, meaning the places should be ordered in the way one would visit them walking along the Freedom Trail.\n",
    "\n",
    "The information should be provided in the following valid, JSON format:\n",
    "\n",
    "{\n",
    "  \"place_id\": \"<id>\",\n",
    "  \"name\": \"<name>\",\n",
    "  \"description\": \"<description>\",\n",
    "  \"location\": \"<latitude,longitude>\"\n",
    "}\n",
    "\n",
    "Make sure you return the only json as a result, no comments, no surrounding text, json array only!\n",
    "\"\"\""
   ],
   "metadata": {
    "collapsed": false,
    "pycharm": {
     "name": "#%%\n"
    }
   }
  },
  {
   "cell_type": "code",
   "execution_count": 9,
   "outputs": [
    {
     "name": "stdout",
     "output_type": "stream",
     "text": [
      "=======Perplexity API (mistral-7b-instruct) Begins========\n",
      "running_time=>6.59\n",
      "[\n",
      "{\n",
      "\"place_id\": \"1\",\n",
      "\"name\": \"Paul Revere's House\",\n",
      "\"description\": \"Paul Revere's House is a historic home located in the North End of Boston. It is the oldest surviving house on the Freedom Trail and was the home of Paul Revere, a key figure in the American Revolution. The house was built in 1692 and was used as a meeting place for the Sons of Liberty, a group of patriots who were instrumental in organizing the American Revolution. Today, the house is a museum that offers visitors a glimpse into life in colonial Boston.\",\n",
      "\"location\": \"39.0214, -70.9878\"\n",
      "},\n",
      "{\n",
      "\"place_id\": \"2\",\n",
      "\"name\": \"Old North Church\",\n",
      "\"description\": \"Old North Church is a historic church located in the North End of Boston. It is one of the oldest churches in the United States and was a key site during the American Revolution. The church was built in 1723 and was used as a meeting place for the Sons of Liberty. It was also used as a signal station during the Revolution, and its bells were used to signal the start of the Battle of Bunker Hill. Today, the church is a museum that offers visitors a glimpse into life in colonial Boston.\",\n",
      "\"location\": \"39.0194, -70.9854\"\n",
      "},\n",
      "{\n",
      "\"place_id\": \"3\",\n",
      "\"name\": \"Bunker Hill Monument\",\n",
      "\"description\": \"The Bunker Hill Monument is a monument located on Bunker Hill in Charlestown, Massachusetts. It was built to commemorate the Battle of Bunker Hill, which was fought during the American Revolution. The battle was fought on June 17, 1775, and was a key turning point in the war. The monument was built in 1793 and was designed by John William Rappel. Today, the monument is a popular tourist attraction and offers visitors a glimpse into the history of the American Revolution.\",\n",
      "\"location\": \"42.3471, -71.0888\"\n",
      "},\n",
      "{\n",
      "\"place_id\": \"4\",\n",
      "\"name\": \"Charlestown Navy Yard\",\n",
      "\"description\": \"The Charlestown Navy Yard is a historic site located in Charlestown, Massachusetts. It was used as a naval base during the American Revolution and was the site of several important events during the war. The yard was used to build and repair ships for the Continental Navy and was also used as a hospital for wounded soldiers. Today, the yard is a museum that offers visitors a glimpse into the history of the American Revolution and the role that the navy played in the war.\",\n",
      "\"location\": \"42.3471, -71.0888\"\n",
      "},\n",
      "{\n",
      "\"place_id\": \"5\",\n",
      "\"name\": \" USS Constitution\",\n",
      "\"description\": \"The USS Constitution is a historic ship located in Boston Harbor. It was built in 1797 and was used as a warship during the American Revolution. The ship was used to transport supplies and troops and was also used in several battles during the war. Today, the ship is a museum that offers visitors a glimpse into life on a 18th-century warship and the history of the American Revolution.\",\n",
      "\"location\": \"42.3471, -71.0888\"\n",
      "}\n",
      "]\n",
      "=======Perplexity API (mistral-7b-instruct) Ends========\n",
      "=======Perplexity API (pplx-70b-chat) Begins========\n",
      "running_time=>9.94\n",
      "[\n",
      "  {\n",
      "    \"place_id\": \"1\",\n",
      "    \"name\": \"Boston Common\",\n",
      "    \"description\": \"Boston Common is the oldest park in Boston, dating back to 1634. It was originally used as a grazing ground for cattle and other livestock. Today, it is a popular tourist destination, offering a variety of activities and attractions, including the Frog Pond, the Central Burying Ground, and the Soldiers and Sailors Monument. The park is also a favorite spot for locals, who come here to relax, play sports, and enjoy the outdoors.\",\n",
      "    \"location\": \"42.3588, -71.0681\"\n",
      "  },\n",
      "  {\n",
      "    \"place_id\": \"2\",\n",
      "    \"name\": \"Massachusetts State House\",\n",
      "    \"description\": \"The Massachusetts State House is the seat of the state government, housing the offices of the Governor and the Legislature. The building was constructed in 1798 and is considered one of the finest examples of Federal architecture in the United States. The State House is also home to the famous 'Sacred Cod', a wooden carving of a codfish that represents the importance of the fishing industry to the state's economy. Visitors can take a guided tour of the building and learn about the history and politics of Massachusetts.\",\n",
      "    \"location\": \"42.3609, -71.0636\"\n",
      "  },\n",
      "  {\n",
      "    \"place_id\": \"3\",\n",
      "    \"name\": \"Old South Meeting House\",\n",
      "    \"description\": \"The Old South Meeting House is a historic church building that played a significant role in the events leading up to the American Revolution. It was here that the Boston Tea Party was planned and executed, and where the Declaration of Independence was first read aloud in Boston. Today, the building is a museum that offers exhibits and programs on the history of the church and its role in the founding of the United States.\",\n",
      "    \"location\": \"42.3588, -71.0594\"\n",
      "  },\n",
      "  {\n",
      "    \"place_id\": \"4\",\n",
      "    \"name\": \"Boston Massacre Site\",\n",
      "    \"description\": \"The Boston Massacre Site is the location where five colonists were killed by British soldiers in 1770, an event that played a pivotal role in the lead-up to the American Revolution. The site is marked by a small monument and is located in the heart of downtown Boston, surrounded by historic buildings and bustling city life. Visitors can learn about the events surrounding the massacre and the impact it had on the city and the nation.\",\n",
      "    \"location\": \"42.3598, -71.0572\"\n",
      "  },\n",
      "  {\n",
      "    \"place_id\": \"5\",\n",
      "    \"name\": \"USS Constitution Museum\",\n",
      "    \"description\": \"The USS Constitution Museum is dedicated to the history and legacy of the USS Constitution, one of the first ships commissioned by the United States Navy. The museum offers interactive exhibits and programs that allow visitors to experience what life was like on board the ship during the early days of the Navy. The museum is located near the Charlestown Navy Yard, where the USS Constitution is currently berthed and open for tours.\",\n",
      "    \"location\": \"42.3792, -71.0541\"\n",
      "  }\n",
      "]\n",
      "\n",
      "=======Perplexity API (pplx-70b-chat) Ends========\n",
      "=======Anthropic API (claude-instant-1.2) Begins========\n",
      "running_time=>4.40\n",
      " [\n",
      "  {\n",
      "    \"place_id\": \"1\",\n",
      "    \"name\": \"Boston Common\", \n",
      "    \"description\": \"Boston Common is a central public park in downtown Boston. It is the oldest city park in the United States, dating back to 1634. It was once used for cattle grazing and public hangings. Today it is a relaxing green space for residents and visitors in the heart of the city.\",\n",
      "    \"location\": \"42.358056,-71.058889\"\n",
      "  },\n",
      "  {\n",
      "    \"place_id\": \"2\", \n",
      "    \"name\": \"Massachusetts State House\",\n",
      "    \"description\": \"The Massachusetts State House sits at the top of Beacon Hill. Construction began in 1795 and it serves as the seat of the Massachusetts government. The golden dome and legislative chambers are open to visitors. It was inspired by the dome of the Pantheon in Rome.\", \n",
      "    \"location\": \"42.360833,-71.059444\"\n",
      "  },\n",
      "  {\n",
      "    \"place_id\": \"3\",\n",
      "    \"name\": \"Park Street Church\",\n",
      "    \"description\": \"Park Street Church is a historic church completed in 1809 in downtown Boston. It was one of the earliest examples of Gothic Revival architecture in America. Many famous figures like Ralph Waldo Emerson gave speeches from its pulpit. The church still holds Sunday services today.\",\n",
      "    \"location\": \"42.358056,-71.060278\" \n",
      "  },\n",
      "  {\n",
      "    \"place_id\": \"4\",\n",
      "    \"name\": \"Granary Burying Ground\",\n",
      "    \"description\": \"The Granary Burying Ground is the third oldest cemetery in Boston, dating to 1660. It contains the remains of many notable patriots from the Revolutionary era like Samuel Adams and Paul Revere. Their graves can still be visited among the aged headstones today.\",\n",
      "    \"location\": \"42.358056,-71.059167\"\n",
      "  },\n",
      "  {  \n",
      "    \"place_id\": \"5\",\n",
      "    \"name\": \"Old State House\",\n",
      "    \"description\": \"The Old State House is a historic building that was once the seat of the Massachusetts government before the construction of the current State House. It was here that the Boston Massacre took place in 1770. Visitors can tour the building and learn about Boston's revolutionary history in the downtown area.\",\n",
      "    \"location\": \"42.361389,-71.057778\"\n",
      "  }\n",
      "]\n",
      "=======Anthropic API (claude-instant-1.2) Ends========\n",
      "=======Anthropic Bedrock API (anthropic.claude-instant-v1) Begins========\n",
      "running_time=>6.34\n",
      " [\n",
      "  {\n",
      "    \"place_id\": \"1\", \n",
      "    \"name\": \"Boston Common\",\n",
      "    \"description\": \"Boston Common is a central public park in downtown Boston. It is the oldest city park in the United States, dating back to 1634. It has served various purposes over the years, including cattle grazing land and a military training ground. Today it is a relaxing green space in the heart of the city.\", \n",
      "    \"location\": \"42.358051,-71.058898\"\n",
      "  },\n",
      "  {\n",
      "    \"place_id\": \"2\",\n",
      "    \"name\": \"Massachusetts State House\", \n",
      "    \"description\": \"The Massachusetts State House sits at the top of Beacon Hill. Construction began in 1795 and it has served as the seat of the Massachusetts government ever since. The golden dome and surrounding neoclassical architecture make it one of Boston's most recognizable landmarks.\",\n",
      "    \"location\": \"42.360081,-71.056551\"\n",
      "  },\n",
      "  {  \n",
      "    \"place_id\": \"3\",\n",
      "    \"name\": \"Park Street Church\",\n",
      "    \"description\": \"Park Street Church is a historic church located near Government Center. Founded in 1809, it is one of the oldest Protestant churches in America. Many notable figures like Ralph Waldo Emerson and Charles Sumner spoke from its pulpit over the years.\",\n",
      "    \"location\": \"42.357837,-71.059356\"  \n",
      "  },\n",
      "  {\n",
      "    \"place_id\": \"4\",\n",
      "    \"name\": \"Granary Burying Ground\",\n",
      "    \"description\": \"The Granary Burying Ground is the third oldest cemetery in Boston, dating back to 1660. It is the final resting place of many prominent colonial figures like Samuel Adams, Paul Revere, John Hancock and several victims of the Boston Massacre.\",\n",
      "    \"location\": \"42.358045,-71.060279\"\n",
      "  },\n",
      "  {\n",
      "    \"place_id\": \"5\", \n",
      "    \"name\": \"Old State House\",\n",
      "    \"description\": \"The Old State House is a historic building near Faneuil Hall that was once the seat of Massachusetts government and the site of the Boston Massacre. Built in 1713, it was where the Declaration of Independence was first publicly read in Boston in 1776.\",\n",
      "    \"location\": \"42.361114,-71.005361\"\n",
      "  }\n",
      "]\n",
      "=======Anthropic Bedrock API (anthropic.claude-instant-v1) Ends========\n"
     ]
    }
   ],
   "source": [
    "import time\n",
    "\n",
    "# start = time.time()\n",
    "# model = \"gpt-3.5-turbo\"\n",
    "# response = get_open_ai_completion(prompt, model)\n",
    "# running_time = time.time() - start\n",
    "# print(f\"=======OpenAI API ({model}) Begins========\")\n",
    "# print(f\"running_time=>{running_time:.2f}\")\n",
    "# print(response)\n",
    "# print(f\"=======OpenAI API ({model}) Ends========\")\n",
    "models = [\"mistral-7b-instruct\", \"pplx-70b-chat\"]\n",
    "for model in models:\n",
    "    start = time.time()\n",
    "    response = get_perplexity_completion(prompt, model)\n",
    "    running_time = time.time() - start\n",
    "    print(f\"=======Perplexity API ({model}) Begins========\")\n",
    "    print(f\"running_time=>{running_time:.2f}\")\n",
    "    print(response)\n",
    "    print(f\"=======Perplexity API ({model}) Ends========\")\n",
    "\n",
    "model = \"claude-instant-1.2\"\n",
    "start = time.time()\n",
    "response = get_anthropic_completion(prompt, model)\n",
    "running_time = time.time() - start\n",
    "print(f\"=======Anthropic API ({model}) Begins========\")\n",
    "print(f\"running_time=>{running_time:.2f}\")\n",
    "print(response)\n",
    "print(f\"=======Anthropic API ({model}) Ends========\")\n",
    "model = 'anthropic.claude-instant-v1'\n",
    "start = time.time()\n",
    "response = get_bedrock_anthropic_completion(prompt, model)  #claude-instant-1.2;claude-2.0\n",
    "running_time = time.time() - start\n",
    "print(f\"=======Anthropic Bedrock API ({model}) Begins========\")\n",
    "print(f\"running_time=>{running_time:.2f}\")\n",
    "print(response)\n",
    "print(f\"=======Anthropic Bedrock API ({model}) Ends========\")"
   ],
   "metadata": {
    "collapsed": false,
    "pycharm": {
     "name": "#%%\n"
    }
   }
  },
  {
   "cell_type": "code",
   "execution_count": null,
   "outputs": [],
   "source": [],
   "metadata": {
    "collapsed": false,
    "pycharm": {
     "name": "#%%\n"
    }
   }
  }
 ],
 "metadata": {
  "kernelspec": {
   "display_name": "Python 3",
   "language": "python",
   "name": "python3"
  },
  "language_info": {
   "codemirror_mode": {
    "name": "ipython",
    "version": 2
   },
   "file_extension": ".py",
   "mimetype": "text/x-python",
   "name": "python",
   "nbconvert_exporter": "python",
   "pygments_lexer": "ipython2",
   "version": "2.7.6"
  }
 },
 "nbformat": 4,
 "nbformat_minor": 0
}