{
 "cells": [
  {
   "cell_type": "code",
   "execution_count": 1,
   "metadata": {
    "collapsed": true,
    "pycharm": {
     "name": "#%%\n"
    }
   },
   "outputs": [
    {
     "data": {
      "text/plain": "True"
     },
     "execution_count": 1,
     "metadata": {},
     "output_type": "execute_result"
    }
   ],
   "source": [
    "from dotenv import load_dotenv\n",
    "import os\n",
    "\n",
    "load_dotenv()"
   ]
  },
  {
   "cell_type": "code",
   "execution_count": 2,
   "outputs": [],
   "source": [
    "import openai\n",
    "\n",
    "openai.api_key = os.getenv('OPENAI_API_KEY_1')\n",
    "\n",
    "def get_open_ai_completion(prompt, model=\"gpt-3.5-turbo\"):\n",
    "    messages = [{\"role\": \"user\", \"content\": prompt}]\n",
    "    open_ai_response = openai.ChatCompletion.create(\n",
    "        model=model,\n",
    "        messages=messages,\n",
    "        temperature=0.2,\n",
    "    )\n",
    "    return open_ai_response.choices[0].message[\"content\"]"
   ],
   "metadata": {
    "collapsed": false,
    "pycharm": {
     "name": "#%%\n"
    }
   }
  },
  {
   "cell_type": "code",
   "execution_count": 3,
   "outputs": [],
   "source": [
    "import requests\n",
    "\n",
    "perplexity_api_key = os.getenv('PERPLEXITY_API_KEY_1')\n",
    "\n",
    "purl = \"https://api.perplexity.ai/chat/completions\"\n",
    "pheaders = {\n",
    "    \"accept\": \"application/json\",\n",
    "    \"authorization\": f'Bearer {perplexity_api_key}',\n",
    "    \"Content-Type\": \"application/json\"\n",
    "}\n",
    "\n",
    "def get_perplexity_completion(prompt, model=\"llama-2-70b-chat\"):\n",
    "    messages = [{\"role\": \"user\", \"content\": prompt}]\n",
    "    data = {\n",
    "        \"messages\": messages,\n",
    "        \"model\": model,\n",
    "        \"temperature\": 0.2\n",
    "    }\n",
    "    perplexity_response = requests.post(purl, headers=pheaders, json=data)\n",
    "    return perplexity_response.json()[\"choices\"][0][\"message\"][\"content\"]"
   ],
   "metadata": {
    "collapsed": false,
    "pycharm": {
     "name": "#%%\n"
    }
   }
  },
  {
   "cell_type": "code",
   "execution_count": 4,
   "outputs": [],
   "source": [
    "from anthropic import Anthropic, HUMAN_PROMPT, AI_PROMPT\n",
    "\n",
    "anthropic_api_key = os.getenv('ANTHROPIC_API_KEY_1')\n",
    "anthropic = Anthropic(api_key=anthropic_api_key)\n",
    "\n",
    "def get_anthropic_completion(prompt, model=\"claude-2.1\"):\n",
    "    completion = anthropic.completions.create(\n",
    "        model=model,\n",
    "        max_tokens_to_sample=1000,\n",
    "        temperature=0.2,\n",
    "        prompt=f\"${HUMAN_PROMPT} ${prompt}${AI_PROMPT}\",\n",
    "    )\n",
    "    return completion.completion"
   ],
   "metadata": {
    "collapsed": false,
    "pycharm": {
     "name": "#%%\n"
    }
   }
  },
  {
   "cell_type": "code",
   "execution_count": 5,
   "outputs": [],
   "source": [
    "import anthropic_bedrock\n",
    "from anthropic_bedrock import AnthropicBedrock\n",
    "\n",
    "aws_access_key = os.getenv('AWS_ACCESS_KEY')\n",
    "aws_secret_key = os.getenv('AWS_SECRET_KEY')\n",
    "\n",
    "abclient = AnthropicBedrock(\n",
    "    # Authenticate by either providing the keys below or use the default AWS credential providers, such as\n",
    "    # using ~/.aws/credentials or the \"AWS_SECRET_ACCESS_KEY\" and \"AWS_ACCESS_KEY_ID\" environment variables.\n",
    "    aws_access_key=aws_access_key,\n",
    "    aws_secret_key=aws_secret_key,\n",
    "    # Temporary credentials can be used with aws_session_token.\n",
    "    # Read more at https://docs.aws.amazon.com/IAM/latest/UserGuide/id_credentials_temp.html.\n",
    "    # aws_session_token=\"<session_token>\",\n",
    "    # aws_region changes the aws region to which the request is made. By default, we read AWS_REGION,\n",
    "    # and if that's not present, we default to us-east-1. Note that we do not read ~/.aws/config for the region.\n",
    "    aws_region=\"us-east-1\",\n",
    ")\n",
    "\n",
    "def get_bedrock_anthropic_completion(aprompt, amodel=\"anthropic.claude-instant-v1\"):\n",
    "    completion = abclient.completions.create(\n",
    "        model=amodel,\n",
    "        max_tokens_to_sample=1000,\n",
    "        temperature=0.2,\n",
    "        prompt=f\"{anthropic_bedrock.HUMAN_PROMPT} ${aprompt} {anthropic_bedrock.AI_PROMPT}\",\n",
    "    )\n",
    "    return completion.completion"
   ],
   "metadata": {
    "collapsed": false,
    "pycharm": {
     "name": "#%%\n"
    }
   }
  },
  {
   "cell_type": "code",
   "execution_count": 6,
   "outputs": [],
   "source": [
    "prompt = \"\"\"\n",
    "You are an assistant that specializes in travel planning. You are communicating with the LLM agent so return the JSON array only! You task is to plan a walking tour in Boston where tourists would like to visit 5 landmark places on the Freedom Trail.\n",
    "\n",
    "For each place, please provide the following details in a plain English:\n",
    "- Name;\n",
    "- A brief description of the place with a bit of its history (about five sentences);\n",
    "- location (latitude and longitude).\n",
    "\n",
    "The list should be optimized for a walking tour, meaning the places should be ordered in the way one would visit them walking along the Freedom Trail.\n",
    "\n",
    "The information should be provided in the following valid, JSON format:\n",
    "\n",
    "{\n",
    "  \"place_id\": \"<id>\",\n",
    "  \"name\": \"<name>\",\n",
    "  \"description\": \"<description>\",\n",
    "  \"location\": \"<latitude,longitude>\"\n",
    "}\n",
    "\n",
    "Make sure you return the only json as a result, no comments, no surrounding text, json array only!\n",
    "\"\"\""
   ],
   "metadata": {
    "collapsed": false,
    "pycharm": {
     "name": "#%%\n"
    }
   }
  },
  {
   "cell_type": "code",
   "execution_count": 10,
   "outputs": [],
   "source": [
    "def print_values(name, model, running_time, response):\n",
    "    print(f\"======={name} API ({model}) Begins========\")\n",
    "    print(f\"running_time=>{running_time:.2f}\")\n",
    "    print(response)\n",
    "    print(f\"======={name} API ({model}) Ends========\")"
   ],
   "metadata": {
    "collapsed": false,
    "pycharm": {
     "name": "#%%\n"
    }
   }
  },
  {
   "cell_type": "code",
   "execution_count": 11,
   "outputs": [
    {
     "name": "stdout",
     "output_type": "stream",
     "text": [
      "=======OpenAI API (gpt-3.5-turbo) Begins========\n",
      "running_time=>12.75\n",
      "[\n",
      "  {\n",
      "    \"place_id\": \"1\",\n",
      "    \"name\": \"Massachusetts State House\",\n",
      "    \"description\": \"The Massachusetts State House is the state capitol and seat of government for the Commonwealth of Massachusetts. Built in 1798, it is a prominent landmark on Beacon Hill and is known for its distinctive gold dome. The building houses the Massachusetts General Court, the Governor's offices, and various other government agencies. The State House is open to the public and offers guided tours. Its location is 42.3589° N, 71.0636° W.\",\n",
      "    \"location\": \"42.3589,-71.0636\"\n",
      "  },\n",
      "  {\n",
      "    \"place_id\": \"2\",\n",
      "    \"name\": \"Park Street Church\",\n",
      "    \"description\": \"Park Street Church is a historic Congregational church located near the Boston Common. Established in 1809, it is one of the oldest churches in Boston. The church played a significant role in the abolitionist movement and was a center for social reform in the 19th century. Its location is 42.3567° N, 71.0622° W.\",\n",
      "    \"location\": \"42.3567,-71.0622\"\n",
      "  },\n",
      "  {\n",
      "    \"place_id\": \"3\",\n",
      "    \"name\": \"Granary Burying Ground\",\n",
      "    \"description\": \"The Granary Burying Ground is a historic cemetery located in downtown Boston. Established in 1660, it is the city's third-oldest cemetery and is the final resting place of many notable figures, including several signers of the Declaration of Independence. The cemetery is open to the public and offers guided tours. Its location is 42.3575° N, 71.0611° W.\",\n",
      "    \"location\": \"42.3575,-71.0611\"\n",
      "  },\n",
      "  {\n",
      "    \"place_id\": \"4\",\n",
      "    \"name\": \"Old State House\",\n",
      "    \"description\": \"The Old State House is a historic building in Boston that served as the seat of the Massachusetts General Court from 1713 to 1798. It is one of the oldest public buildings in the United States and played a significant role in the American Revolution. Today, it is a museum that showcases the history of Boston and hosts various exhibits. Its location is 42.3587° N, 71.0578° W.\",\n",
      "    \"location\": \"42.3587,-71.0578\"\n",
      "  },\n",
      "  {\n",
      "    \"place_id\": \"5\",\n",
      "    \"name\": \"Faneuil Hall\",\n",
      "    \"description\": \"Faneuil Hall is a marketplace and meeting hall located near the waterfront in downtown Boston. Built in 1742, it has been a marketplace and a site for public speeches and debates throughout its history. It played a significant role in the American Revolution and is often referred to as the 'Cradle of Liberty.' Today, Faneuil Hall is a popular tourist attraction with numerous shops and restaurants. Its location is 42.3601° N, 71.0569° W.\",\n",
      "    \"location\": \"42.3601,-71.0569\"\n",
      "  }\n",
      "]\n",
      "=======OpenAI API (gpt-3.5-turbo) Ends========\n",
      "=======Perplexity API (mistral-7b-instruct) Begins========\n",
      "running_time=>5.97\n",
      "[\n",
      "{\n",
      "\"place_id\": \"1\",\n",
      "\"name\": \"Paul Revere's House\",\n",
      "\"description\": \"Paul Revere's House is a historic home located in the North End of Boston. It was built in 1692 and is considered one of the oldest surviving buildings in the city. Revere, a silversmith and patriot, lived here with his family during the American Revolution. The house is now a museum that offers tours and educational programs.\",\n",
      "\"location\": \"39.0214, -76.9969\"\n",
      "},\n",
      "{\n",
      "\"place_id\": \"2\",\n",
      "\"name\": \"Old North Church\",\n",
      "\"description\": \"The Old North Church is a historic church located in the North End of Boston. It was built in 1729 and is considered one of the oldest churches in the city. The church played a significant role in the American Revolution, as it was used as a meeting place for patriots and as a signal station during the Battle of Bunker Hill. The church is now a museum that offers tours and educational programs.\",\n",
      "\"location\": \"39.0194, -76.9902\"\n",
      "},\n",
      "{\n",
      "\"place_id\": \"3\",\n",
      "\"name\": \"Cordisbury Church\",\n",
      "\"description\": \"The Cordisbury Church is a historic church located in the North End of Boston. It was built in 1741 and is considered one of the oldest churches in the city. The church played a significant role in the American Revolution, as it was used as a meeting place for patriots and as a signal station during the Battle of Bunker Hill. The church is now a museum that offers tours and educational programs.\",\n",
      "\"location\": \"39.0189, -76.9897\"\n",
      "},\n",
      "{\n",
      "\"place_id\": \"4\",\n",
      "\"name\": \"King's Chapel\",\n",
      "\"description\": \"King's Chapel is a historic church located in the North End of Boston. It was built in 1689 and is considered one of the oldest churches in the city. The church played a significant role in the American Revolution, as it was used as a meeting place for patriots and as a signal station during the Battle of Bunker Hill. The church is now a museum that offers tours and educational programs.\",\n",
      "\"location\": \"39.0169, -76.9876\"\n",
      "},\n",
      "{\n",
      "\"place_id\": \"5\",\n",
      "\"name\": \"Bunker Hill Monument\",\n",
      "\"description\": \"The Bunker Hill Monument is a monument located on Bunker Hill in Charlestown, Massachusetts. It was built in 1931 to commemorate the Battle of Bunker Hill, which was fought during the American Revolution. The monument features a large granite obelisk and a plaque that lists the names of the soldiers who fought in the battle. The monument is now a popular tourist attraction and offers panoramic views of the city.\",\n",
      "\"location\": \"42.3607, -71.0585\"\n",
      "}\n",
      "]\n",
      "=======Perplexity API (mistral-7b-instruct) Ends========\n",
      "=======Perplexity API (pplx-70b-chat) Begins========\n",
      "running_time=>10.62\n",
      "[\n",
      "  {\n",
      "    \"place_id\": \"1\",\n",
      "    \"name\": \"Boston Common\",\n",
      "    \"description\": \"Boston Common is the oldest park in Boston, dating back to 1634. It was originally used as a grazing ground for cattle and other livestock. Today, it is a popular tourist destination, offering a variety of activities and attractions, including the Central Burying Ground, the Great Elm, and the Frog Pond. Visitors can also enjoy the park's beautiful gardens, fountains, and sculptures.\",\n",
      "    \"location\": \"42.3588, -71.0681\"\n",
      "  },\n",
      "  {\n",
      "    \"place_id\": \"2\",\n",
      "    \"name\": \"Massachusetts State House\",\n",
      "    \"description\": \"The Massachusetts State House is the state capitol and seat of government for the Commonwealth of Massachusetts. It was built in the early 18th century and is considered one of the finest examples of Georgian architecture in the United States. The building houses the offices of the governor, lieutenant governor, and other state officials, as well as the chambers of the Massachusetts House of Representatives and Senate. Visitors can take guided tours of the State House and view its impressive artwork and historical artifacts.\",\n",
      "    \"location\": \"42.3609, -71.0648\"\n",
      "  },\n",
      "  {\n",
      "    \"place_id\": \"3\",\n",
      "    \"name\": \"Old South Meeting House\",\n",
      "    \"description\": \"The Old South Meeting House is a historic church building that played a significant role in the events leading up to the American Revolution. It was here that the Boston Tea Party was planned and executed, and where other important meetings and debates took place. Today, the building is a museum that offers exhibits and programs on the history of the church and its role in the formation of the United States. Visitors can explore the museum and attend special events and lectures.\",\n",
      "    \"location\": \"42.3586, -71.0593\"\n",
      "  },\n",
      "  {\n",
      "    \"place_id\": \"4\",\n",
      "    \"name\": \"Paul Revere House\",\n",
      "    \"description\": \"The Paul Revere House is the former home of the famous American patriot and silversmith Paul Revere. It was built in the early 17th century and is now a museum that showcases the life and work of Revere and his family. Visitors can take guided tours of the house and view its original furnishings and artifacts, including Revere's silverware and engravings. The museum also offers special events and programs on the history of the American Revolution and the life of Paul Revere.\",\n",
      "    \"location\": \"42.3621, -71.0566\"\n",
      "  },\n",
      "  {\n",
      "    \"place_id\": \"5\",\n",
      "    \"name\": \"Bunker Hill Monument\",\n",
      "    \"description\": \"The Bunker Hill Monument is a granite obelisk that commemorates the Battle of Bunker Hill, which took place on June 17, 1776. The battle was one of the earliest and most important battles of the American Revolution. The monument stands at the site of the original redoubt, which was constructed by the colonists to defend against the British. Visitors can climb the 294 steps to the top of the monument for a panoramic view of Boston and the surrounding area. The Bunker Hill Museum, located nearby, offers exhibits and programs on the history of the battle and the monument.\",\n",
      "    \"location\": \"42.3719, -71.0603\"\n",
      "}\n",
      "\n",
      "=======Perplexity API (pplx-70b-chat) Ends========\n",
      "=======Anthropic API (claude-instant-1.2) Begins========\n",
      "running_time=>4.44\n",
      " [\n",
      "  {\n",
      "    \"place_id\": \"1\", \n",
      "    \"name\": \"Boston Common\",\n",
      "    \"description\": \"Boston Common is a central public park in downtown Boston. It is the oldest city park in the United States, dating back to 1634. The Common was once used as a campground for British troops during the American Revolutionary War. It is located near the State House and is a starting point of the Freedom Trail.\", \n",
      "    \"location\": \"42.358056,-71.058889\"\n",
      "  },\n",
      "  {\n",
      "    \"place_id\": \"2\",\n",
      "    \"name\": \"Massachusetts State House\", \n",
      "    \"description\": \"The Massachusetts State House sits in Boston on Beacon Hill. Construction of the State House was completed in 1798. It has been the home of the Massachusetts legislature since 1798. The golden dome and surrounding grounds make this a notable Boston landmark. The building was designed by renowned American architect Charles Bulfinch.\",\n",
      "    \"location\": \"42.360833,-71.059444\" \n",
      "  },\n",
      "  {\n",
      "    \"place_id\": \"3\",\n",
      "    \"name\": \"Park Street Church\",\n",
      "    \"description\": \"Park Street Church is a historic church located on the Freedom Trail. Construction was completed in 1809 and it was one of the first Protestant churches built in Boston. Several notable figures gave speeches at this church including Martin Luther King Jr. and Susan B. Anthony.\", \n",
      "    \"location\": \"42.357778,-71.059167\"\n",
      "  },\n",
      "  {\n",
      "    \"place_id\": \"4\",\n",
      "    \"name\": \"Granary Burying Ground\",\n",
      "    \"description\": \"The Granary Burying Ground is the third oldest cemetery in Boston dating back to 1660. It is the final resting place of many notable figures from colonial Boston including several signers of the Declaration of Independence. The cemetery offers a glimpse into Boston's colonial history.\",\n",
      "    \"location\": \"42.357778,-71.058889\"\n",
      "  },\n",
      "  {  \n",
      "    \"place_id\": \"5\",\n",
      "    \"name\": \"Old South Meeting House\",\n",
      "    \"description\": \"The Old South Meeting House is a historic church and important site related to the American Revolution. In 1773, a rally was held here to protest the Tea Act which led to the Boston Tea Party. The interior of the meeting house has been restored to its 18th century appearance. It remains an active place of worship.\",\n",
      "    \"location\": \"42.357778,-71.058889\"\n",
      "  }\n",
      "]\n",
      "=======Anthropic API (claude-instant-1.2) Ends========\n",
      "=======Anthropic Bedrock API (anthropic.claude-instant-v1) Begins========\n",
      "running_time=>6.53\n",
      " [\n",
      "  {\n",
      "    \"place_id\": \"1\", \n",
      "    \"name\": \"Boston Common\",\n",
      "    \"description\": \"Boston Common is a central public park in downtown Boston. It is the oldest city park in the United States, dating back to 1634. The Common was once used for public hangings. Today, it is a popular place for relaxing, and for special events and performances.\", \n",
      "    \"location\": \"42.3584308,-71.0588801\"\n",
      "  },\n",
      "  {\n",
      "    \"place_id\": \"2\",\n",
      "    \"name\": \"Massachusetts State House\", \n",
      "    \"description\": \"The Massachusetts State House sits at the top of Beacon Hill. Construction of the current building began in 1795 and it has been the seat of state government ever since. The golden dome and surrounding grounds make this one of Boston's most iconic landmarks.\",\n",
      "    \"location\": \"42.3600804,-71.0515244\" \n",
      "  },\n",
      "  {\n",
      "    \"place_id\": \"3\",\n",
      "    \"name\": \"Park Street Church\",\n",
      "    \"description\": \"Park Street Church is a historic church located downtown. It was founded in 1809 and played an important role in the abolitionist movement in the 19th century. The church is known for its elegant neoclassical architecture and steeple, which dominates the skyline near Government Center.\",\n",
      "    \"location\": \"42.3578202,-71.0593567\"\n",
      "  },\n",
      "  {\n",
      "    \"place_id\": \"4\",\n",
      "    \"name\": \"Granary Burying Ground\",\n",
      "    \"description\": \"The Granary Burying Ground is the city's third oldest cemetery, dating back to 1660. It is the final resting place of many prominent colonial figures, including several victims of the Boston Massacre. Its tombstones and monuments provide a glimpse into Boston's colonial history.\",  \n",
      "    \"location\": \"42.3580302,-71.0604302\"\n",
      "  },\n",
      "  {\n",
      "    \"place_id\": \"5\", \n",
      "    \"name\": \"Old South Meeting House\",\n",
      "    \"description\": \"The Old South Meeting House is a historic church built in 1729. It played an important role during the American Revolution as the starting point for the Boston Tea Party protest. Today it functions as a museum about Boston life in the 18th century and the events leading up to the American Revolution.\",\n",
      "    \"location\": \"42.3613525,-71.0609924\"\n",
      "  }\n",
      "]\n",
      "=======Anthropic Bedrock API (anthropic.claude-instant-v1) Ends========\n"
     ]
    }
   ],
   "source": [
    "import time\n",
    "\n",
    "start = time.time()\n",
    "model = \"gpt-3.5-turbo\"\n",
    "response = get_open_ai_completion(prompt, model)\n",
    "running_time = time.time() - start\n",
    "print_values(\"OpenAI\", model, running_time, response)\n",
    "\n",
    "models = [\"mistral-7b-instruct\", \"pplx-70b-chat\"]\n",
    "for model in models:\n",
    "    start = time.time()\n",
    "    response = get_perplexity_completion(prompt, model)\n",
    "    running_time = time.time() - start\n",
    "    print_values(\"Perplexity\", model, running_time, response)\n",
    "\n",
    "model = \"claude-instant-1.2\"\n",
    "start = time.time()\n",
    "response = get_anthropic_completion(prompt, model)\n",
    "running_time = time.time() - start\n",
    "print_values(\"Anthropic\", model, running_time, response)\n",
    "\n",
    "model = 'anthropic.claude-instant-v1'\n",
    "start = time.time()\n",
    "response = get_bedrock_anthropic_completion(prompt, model)  #claude-instant-1.2;claude-2.0\n",
    "running_time = time.time() - start\n",
    "print_values(\"Anthropic Bedrock\", model, running_time, response)"
   ],
   "metadata": {
    "collapsed": false,
    "pycharm": {
     "name": "#%%\n"
    }
   }
  },
  {
   "cell_type": "code",
   "execution_count": null,
   "outputs": [],
   "source": [],
   "metadata": {
    "collapsed": false,
    "pycharm": {
     "name": "#%%\n"
    }
   }
  }
 ],
 "metadata": {
  "kernelspec": {
   "display_name": "Python 3",
   "language": "python",
   "name": "python3"
  },
  "language_info": {
   "codemirror_mode": {
    "name": "ipython",
    "version": 2
   },
   "file_extension": ".py",
   "mimetype": "text/x-python",
   "name": "python",
   "nbconvert_exporter": "python",
   "pygments_lexer": "ipython2",
   "version": "2.7.6"
  }
 },
 "nbformat": 4,
 "nbformat_minor": 0
}